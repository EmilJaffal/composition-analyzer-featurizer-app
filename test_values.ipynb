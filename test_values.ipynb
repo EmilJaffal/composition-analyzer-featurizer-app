{
 "cells": [
  {
   "cell_type": "code",
   "execution_count": null,
   "id": "a721c5f2",
   "metadata": {},
   "outputs": [
    {
     "name": "stdout",
     "output_type": "stream",
     "text": [
      "\n",
      "Available elemental properties:\n",
      "  1. AW - atomic_weight\n",
      "  2. ATOMIC_NUMBER - atomic_number\n",
      "  3. PERIOD - period\n",
      "  4. GROUP - group\n",
      "  5. MEND_NUM - Mendeleev_number\n",
      "  6. VAL_TOTAL - valencee_total\n",
      "  7. UNPARIED_E - unpaired_electrons\n",
      "  8. GILMAN - Gilman\n",
      "  9. Z_EFF - Z_eff\n",
      "  10. ION_ENERGY - ionization_energy\n",
      "  11. COORD_NUM - coordination_number\n",
      "  12. RATIO_CLOSEST - ratio_closest\n",
      "  13. POLYHEDRON_DISTORT - polyhedron_distortion\n",
      "  14. CIF_RADIUS - CIF_radius\n",
      "  15. PAULING_RADIUS_CN12 - Pauling_radius_CN12\n",
      "  16. PAULING_EN - Pauling_EN\n",
      "  17. MARTYNOV_BATSANOV_EN - Martynov_Batsanov_EN\n",
      "  18. MELTING_POINT_K - melting_point_K\n",
      "  19. DENSITY - density\n",
      "  20. SPECIFIC_HEAT - specific_heat\n",
      "  21. COHESIVE_ENERGY - cohesive_energy\n",
      "  22. BULK_MODULUS - bulk_modulus\n"
     ]
    }
   ],
   "source": [
    "from bobleesj.utils.sources.oliynyk import Property\n",
    "\n",
    "Property.select()\n",
    "        \n",
    "\n"
   ]
  },
  {
   "cell_type": "code",
   "execution_count": null,
   "id": "bf3f6fc4",
   "metadata": {},
   "outputs": [],
   "source": []
  }
 ],
 "metadata": {
  "kernelspec": {
   "display_name": "cifkit-env",
   "language": "python",
   "name": "python3"
  },
  "language_info": {
   "codemirror_mode": {
    "name": "ipython",
    "version": 3
   },
   "file_extension": ".py",
   "mimetype": "text/x-python",
   "name": "python",
   "nbconvert_exporter": "python",
   "pygments_lexer": "ipython3",
   "version": "3.13.3"
  }
 },
 "nbformat": 4,
 "nbformat_minor": 5
}
